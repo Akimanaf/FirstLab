{
  "nbformat": 4,
  "nbformat_minor": 0,
  "metadata": {
    "colab": {
      "provenance": [],
      "authorship_tag": "ABX9TyMVArU1FF9WSfWAv/3h7lix",
      "include_colab_link": true
    },
    "kernelspec": {
      "name": "python3",
      "display_name": "Python 3"
    },
    "language_info": {
      "name": "python"
    }
  },
  "cells": [
    {
      "cell_type": "markdown",
      "metadata": {
        "id": "view-in-github",
        "colab_type": "text"
      },
      "source": [
        "<a href=\"https://colab.research.google.com/github/Akimanaf/FirstLab/blob/main/Extra_Practice_Week_1.ipynb\" target=\"_parent\"><img src=\"https://colab.research.google.com/assets/colab-badge.svg\" alt=\"Open In Colab\"/></a>"
      ]
    },
    {
      "cell_type": "markdown",
      "source": [
        "Number 3"
      ],
      "metadata": {
        "id": "blr5xj485IEA"
      }
    },
    {
      "cell_type": "code",
      "source": [
        "def isEvenPositiveInt(x):\n",
        "   if(isinstance(x,int) and x>0 and x % 2 == 0):\n",
        "    return True\n",
        "\n",
        "   else:\n",
        "    return False\n",
        "\n",
        "\n",
        "print(isEvenPositiveInt(\"yikes!\")) #Testing"
      ],
      "metadata": {
        "colab": {
          "base_uri": "https://localhost:8080/"
        },
        "id": "UsprFNkD5QR-",
        "outputId": "12369ac9-66cc-4c6f-ed14-d31768580bdd"
      },
      "execution_count": null,
      "outputs": [
        {
          "output_type": "stream",
          "name": "stdout",
          "text": [
            "False\n"
          ]
        }
      ]
    },
    {
      "cell_type": "markdown",
      "source": [
        "Number 4"
      ],
      "metadata": {
        "id": "x9DrJhC56wo9"
      }
    },
    {
      "cell_type": "code",
      "source": [
        "def nthFibonacciNumber(n):\n",
        "    if n < 0:\n",
        "        return None\n",
        "    elif n == 0 or n == 1:\n",
        "        return 1\n",
        "    elif n == 2:\n",
        "        return 2\n",
        "    else:\n",
        "        return nthFibonacciNumber(n-1) + nthFibonacciNumber(n-2)\n",
        "\n",
        "print(nthFibonacciNumber(2))"
      ],
      "metadata": {
        "colab": {
          "base_uri": "https://localhost:8080/"
        },
        "id": "aLFKtKAs6y47",
        "outputId": "ac5be879-a202-4641-f5c4-6ac7b66b7859"
      },
      "execution_count": null,
      "outputs": [
        {
          "output_type": "stream",
          "name": "stdout",
          "text": [
            "2\n"
          ]
        }
      ]
    },
    {
      "cell_type": "markdown",
      "source": [
        "Number 5"
      ],
      "metadata": {
        "id": "Ag6DctA47FLp"
      }
    },
    {
      "cell_type": "code",
      "source": [
        "def isLegalTriangle(s1, s2, s3):\n",
        "    longSide = max(s1, s2, s3)\n",
        "    if s1 <= 0 or s2 <= 0 or s3 <= 0:\n",
        "        return False\n",
        "\n",
        "    if longSide == s1:\n",
        "        return s2 + s3 > s1\n",
        "    elif longSide == s2:\n",
        "        return s1 + s3 > s2\n",
        "    else:\n",
        "        return s1 + s2 > s3\n",
        "\n",
        "print(isLegalTriangle(3, 4, 5))\n",
        "print(isLegalTriangle(1, 2, 4))"
      ],
      "metadata": {
        "colab": {
          "base_uri": "https://localhost:8080/"
        },
        "id": "RrSCqOv37I-w",
        "outputId": "33681a8b-bee9-4d7e-b429-907d168e0889"
      },
      "execution_count": null,
      "outputs": [
        {
          "output_type": "stream",
          "name": "stdout",
          "text": [
            "True\n",
            "False\n"
          ]
        }
      ]
    },
    {
      "cell_type": "markdown",
      "source": [
        "Number 6"
      ],
      "metadata": {
        "id": "0m0rRF-e7hEv"
      }
    },
    {
      "cell_type": "code",
      "source": [
        "def isRightTriangle(x1, y1, x2, y2, x3, y3):\n",
        "    side1 = distance(x1, y1, x2, y2)\n",
        "    side2 = distance(x2, y2, x3, y3)\n",
        "    side3 = distance(x1, y1, x3, y3)\n",
        "\n",
        "    if almostEqual((side1**2 + side2**2), side3**2) or \\\n",
        "       almostEqual((side2**2 + side3**2), side1**2) or \\\n",
        "       almostEqual((side1**2 + side3**2), side2**2):\n",
        "        return True\n",
        "    else:\n",
        "        return False\n",
        "\n",
        "def distance(x1, y1, x2, y2):\n",
        "    sideDistance = ((x2 - x1) ** 2 + (y2 - y1) ** 2) ** 0.5\n",
        "    return sideDistance\n",
        "\n",
        "def almostEqual(num1, num2, tolerance=1e-9):\n",
        "    return abs(num1 - num2) < tolerance\n",
        "\n",
        "print(isRightTriangle(0, 0, 0, 3, 4, 0))  # True\n",
        "print(isRightTriangle(1, 1, 2, 2, 3, 3))  # False\n",
        "\n",
        "\n"
      ],
      "metadata": {
        "colab": {
          "base_uri": "https://localhost:8080/"
        },
        "id": "zT1Fs-MW7msf",
        "outputId": "f4a3ce0f-a3ef-42a3-8c75-87679e2ae281"
      },
      "execution_count": null,
      "outputs": [
        {
          "output_type": "stream",
          "name": "stdout",
          "text": [
            "True\n",
            "False\n"
          ]
        }
      ]
    }
  ]
}