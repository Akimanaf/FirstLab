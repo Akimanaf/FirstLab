{
  "nbformat": 4,
  "nbformat_minor": 0,
  "metadata": {
    "colab": {
      "provenance": [],
      "authorship_tag": "ABX9TyP7IIAGl4ZjAM3KEw60G2o4",
      "include_colab_link": true
    },
    "kernelspec": {
      "name": "python3",
      "display_name": "Python 3"
    },
    "language_info": {
      "name": "python"
    }
  },
  "cells": [
    {
      "cell_type": "markdown",
      "metadata": {
        "id": "view-in-github",
        "colab_type": "text"
      },
      "source": [
        "<a href=\"https://colab.research.google.com/github/Akimanaf/FirstLab/blob/main/part_B.ipynb\" target=\"_parent\"><img src=\"https://colab.research.google.com/assets/colab-badge.svg\" alt=\"Open In Colab\"/></a>"
      ]
    },
    {
      "cell_type": "markdown",
      "source": [
        "Question 9"
      ],
      "metadata": {
        "id": "782J92YaxzSy"
      }
    },
    {
      "cell_type": "code",
      "source": [
        "def nearestOdd(n):\n",
        "\n",
        "    if n % 2 != 0:\n",
        "        return int(n)\n",
        "\n",
        "    else:\n",
        "        lower_odd = int(n) - 1\n",
        "        upper_odd = int(n) + 1\n",
        "        if abs(lower_odd - n) < abs(upper_odd - n):\n",
        "            return lower_odd\n",
        "        else:\n",
        "            return upper_odd\n",
        "\n",
        "n = 13.0\n",
        "print(nearestOdd(n))"
      ],
      "metadata": {
        "colab": {
          "base_uri": "https://localhost:8080/"
        },
        "id": "L9UDhplSx6-W",
        "outputId": "225b0cb4-f7fb-49aa-e852-1f86cfbd809e"
      },
      "execution_count": null,
      "outputs": [
        {
          "output_type": "stream",
          "name": "stdout",
          "text": [
            "13\n"
          ]
        }
      ]
    },
    {
      "cell_type": "markdown",
      "source": [
        "Question 10"
      ],
      "metadata": {
        "id": "0z3ENm8vyzcO"
      }
    },
    {
      "cell_type": "code",
      "source": [
        "def numberOfPoolBalls(rows):\n",
        "    return rows * (rows + 1) // 2\n",
        "\n",
        "print(numberOfPoolBalls(3))\n"
      ],
      "metadata": {
        "colab": {
          "base_uri": "https://localhost:8080/"
        },
        "id": "n03qWgPIy8rY",
        "outputId": "f3067a63-11d9-41f8-8f97-343e3b91fcde"
      },
      "execution_count": null,
      "outputs": [
        {
          "output_type": "stream",
          "name": "stdout",
          "text": [
            "6\n"
          ]
        }
      ]
    },
    {
      "cell_type": "markdown",
      "source": [
        "Question 11"
      ],
      "metadata": {
        "id": "MOfcLfv6z4uE"
      }
    },
    {
      "cell_type": "code",
      "source": [
        "def numberOfPoolBallRows(balls):\n",
        "    row = 0\n",
        "    total_balls = 0\n",
        "\n",
        "    while total_balls < balls:\n",
        "        row += 1\n",
        "        total_balls += row\n",
        "\n",
        "    return row\n",
        "\n",
        "print(numberOfPoolBallRows(6))\n",
        "print(numberOfPoolBallRows(7))\n"
      ],
      "metadata": {
        "colab": {
          "base_uri": "https://localhost:8080/"
        },
        "id": "gzFFejQcz_ki",
        "outputId": "9255aee2-6baf-4a26-f97a-697a7b923cfe"
      },
      "execution_count": null,
      "outputs": [
        {
          "output_type": "stream",
          "name": "stdout",
          "text": [
            "3\n",
            "4\n"
          ]
        }
      ]
    },
    {
      "cell_type": "markdown",
      "source": [
        "Question 12"
      ],
      "metadata": {
        "id": "y4Dn2v710ffW"
      }
    },
    {
      "cell_type": "code",
      "source": [
        "def roundHalfUp(n):\n",
        "    return int(n + 0.5)\n",
        "\n",
        "def colorBlender(rgb1, rgb2, midpoints, n):\n",
        "    if n < 0 or n > midpoints + 1:\n",
        "        return None\n",
        "\n",
        "    r1, g1, b1 = rgb1 // 1000000, (rgb1 % 1000000) // 1000, rgb1 % 1000\n",
        "    r2, g2, b2 = rgb2 // 1000000, (rgb2 % 1000000) // 1000, rgb2 % 1000\n",
        "\n",
        "    step_r = (r2 - r1) / (midpoints + 1)\n",
        "    step_g = (g2 - g1) / (midpoints + 1)\n",
        "    step_b = (b2 - b1) / (midpoints + 1)\n",
        "\n",
        "    if n == 0:\n",
        "        return rgb1\n",
        "    elif n == midpoints + 1:\n",
        "        return rgb2\n",
        "    else:\n",
        "        new_r = roundHalfUp(r1 + step_r * n)\n",
        "        new_g = roundHalfUp(g1 + step_g * n)\n",
        "        new_b = roundHalfUp(b1 + step_b * n)\n",
        "        return new_r * 1000000 + new_g * 1000 + new_b\n",
        "\n",
        "print(colorBlender(220020060, 189252201, 3, 1))\n"
      ],
      "metadata": {
        "colab": {
          "base_uri": "https://localhost:8080/"
        },
        "id": "5EgGaMTs0qqe",
        "outputId": "3f2e0a33-1925-473d-82b7-90270b8d4774"
      },
      "execution_count": null,
      "outputs": [
        {
          "output_type": "stream",
          "name": "stdout",
          "text": [
            "212078095\n"
          ]
        }
      ]
    }
  ]
}