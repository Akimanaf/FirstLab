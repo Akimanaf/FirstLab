{
  "cells": [
    {
      "cell_type": "markdown",
      "metadata": {
        "id": "view-in-github",
        "colab_type": "text"
      },
      "source": [
        "<a href=\"https://colab.research.google.com/github/Akimanaf/FirstLab/blob/main/part_A.ipynb\" target=\"_parent\"><img src=\"https://colab.research.google.com/assets/colab-badge.svg\" alt=\"Open In Colab\"/></a>"
      ]
    },
    {
      "cell_type": "markdown",
      "metadata": {
        "id": "ag8qoX_aOVlQ"
      },
      "source": [
        "number1 1"
      ]
    },
    {
      "cell_type": "code",
      "execution_count": null,
      "metadata": {
        "colab": {
          "background_save": true
        },
        "id": "1Aw4SNQGOhej",
        "outputId": "a6b5d626-8eba-402c-cc3b-6295436e0557"
      },
      "outputs": [
        {
          "name": "stdout",
          "output_type": "stream",
          "text": [
            "7.211102550927978\n"
          ]
        }
      ],
      "source": [
        "def distance(x1, y1, x2, y2):\n",
        "    distancebetween = ((x2 - x1) ** 2 + (y2 - y1) ** 2) ** 0.5\n",
        "    return distancebetween\n",
        "\n",
        "print(distance(1, 3, 5, 9))"
      ]
    },
    {
      "cell_type": "markdown",
      "metadata": {
        "id": "ICMR9XaPQJIq"
      },
      "source": [
        "number 2"
      ]
    },
    {
      "cell_type": "code",
      "execution_count": null,
      "metadata": {
        "id": "imKTryujQN59"
      },
      "outputs": [],
      "source": [
        "def circlesIntersect(x1, y1, r1, x2, y2, r2):\n",
        "  distancebetween = ((x2 - x1) ** 2 + (y2 - y1) ** 2) ** 0.5\n",
        "  if (distancebetween  <= r1 + r2)\n",
        "    return True\n",
        "\n",
        "  else:\n",
        "    return False\n",
        "\n",
        "print(circlesIntersect(3, 1, 6, 4, 0, 3))"
      ]
    },
    {
      "cell_type": "markdown",
      "metadata": {
        "id": "I60lsmE2S2nP"
      },
      "source": [
        "number 3"
      ]
    },
    {
      "cell_type": "code",
      "execution_count": null,
      "metadata": {
        "colab": {
          "base_uri": "https://localhost:8080/"
        },
        "id": "2sc2KuuMS60I",
        "outputId": "51189b6a-ff7a-4fe7-ead8-f852be3fca49"
      },
      "outputs": [
        {
          "name": "stdout",
          "output_type": "stream",
          "text": [
            "lower bound\n",
            "4\n",
            "upper bound\n",
            "upper bound\n"
          ]
        }
      ],
      "source": [
        "def getInRange(x, bound1, bound2):\n",
        "    minBound = min(bound1, bound2)\n",
        "    maxBound= max(bound1, bound2)\n",
        "\n",
        "    if x < minBound:\n",
        "        return 'lower bound'\n",
        "    elif x > maxBound:\n",
        "        return 'upper bound'\n",
        "    else:\n",
        "        return x\n",
        "\n",
        "print(getInRange(1, 3, 5))\n",
        "print(getInRange(4, 3, 5))\n",
        "print(getInRange(6, 3, 5))\n",
        "print(getInRange(6, 5, 3))"
      ]
    },
    {
      "cell_type": "markdown",
      "metadata": {
        "id": "j3paUirGo59a"
      },
      "source": [
        "number4"
      ]
    },
    {
      "cell_type": "code",
      "execution_count": null,
      "metadata": {
        "colab": {
          "base_uri": "https://localhost:8080/"
        },
        "id": "YC1Xam4ipCym",
        "outputId": "fdddd6ec-f866-40a4-eec0-689cae4d325c"
      },
      "outputs": [
        {
          "name": "stdout",
          "output_type": "stream",
          "text": [
            "17\n"
          ]
        }
      ],
      "source": [
        "def eggCartons(eggs):\n",
        "    cartons = eggs // 12\n",
        "    if eggs % 12 != 0:\n",
        "        cartons += 1\n",
        "    return cartons\n",
        "print(eggCartons(200))\n"
      ]
    },
    {
      "cell_type": "markdown",
      "metadata": {
        "id": "7AqwQpfspUAB"
      },
      "source": [
        "number 5"
      ]
    },
    {
      "cell_type": "code",
      "execution_count": null,
      "metadata": {
        "colab": {
          "base_uri": "https://localhost:8080/"
        },
        "id": "DYf6H3smpfTA",
        "outputId": "7b64eadc-18fa-44cf-aff9-97c8fa5a2ca5"
      },
      "outputs": [
        {
          "name": "stdout",
          "output_type": "stream",
          "text": [
            "10\n"
          ]
        }
      ],
      "source": [
        "import math\n",
        "\n",
        "def pascalsTriangleValue(row, col):\n",
        "    if row < 0 or col < 0 or col > row:\n",
        "        return None\n",
        "\n",
        "    return math.factorial(row) // (math.factorial(col) * math.factorial(row - col))\n",
        "\n",
        "\n",
        "\n",
        "print(pascalsTriangleValue(5, 3))"
      ]
    },
    {
      "cell_type": "markdown",
      "metadata": {
        "id": "V6BIkOFmpzSB"
      },
      "source": [
        "number 6"
      ]
    },
    {
      "cell_type": "code",
      "execution_count": null,
      "metadata": {
        "colab": {
          "base_uri": "https://localhost:8080/"
        },
        "id": "iHDs8YZHp3B0",
        "outputId": "5216895b-3878-44a3-916e-3f31a15a0cfd"
      },
      "outputs": [
        {
          "name": "stdout",
          "output_type": "stream",
          "text": [
            "9\n",
            "8\n",
            "7\n",
            "0\n",
            "9\n"
          ]
        }
      ],
      "source": [
        "def getKthDigit(n, k):\n",
        "    n = abs(n)\n",
        "    StringOfn = str(n)[::-1]\n",
        "\n",
        "    if k < len(StringOfn):\n",
        "\n",
        "        return int(StringOfn[k])\n",
        "    else:\n",
        "        return 0\n",
        "\n",
        "\n",
        "print(getKthDigit(789, 0))\n",
        "print(getKthDigit(789, 1))\n",
        "print(getKthDigit(789, 2))\n",
        "print(getKthDigit(789, 3))\n",
        "print(getKthDigit(-789, 0))"
      ]
    },
    {
      "cell_type": "markdown",
      "metadata": {
        "id": "gl617RiqqF3M"
      },
      "source": [
        "number 7"
      ]
    },
    {
      "cell_type": "code",
      "execution_count": null,
      "metadata": {
        "colab": {
          "background_save": true,
          "base_uri": "https://localhost:8080/"
        },
        "id": "N6gl2qeeqrjD",
        "outputId": "8df5f0ef-5f0c-40cd-fd8f-b703099d8ad7"
      },
      "outputs": [
        {
          "name": "stdout",
          "output_type": "stream",
          "text": [
            "461\n",
            "418\n",
            "168\n",
            "1468\n"
          ]
        }
      ],
      "source": [
        "def setKthDigit(n, k, d):\n",
        "    n = abs(n)\n",
        "    StringOfn = str(n)[::-1]\n",
        "\n",
        "    if k < len(StringOfn):\n",
        "        newStringOfn = (StringOfn[:k] + str(d) + StringOfn[k+1:])[::-1]\n",
        "        newn = int(newStringOfn)\n",
        "\n",
        "        if n < 0:\n",
        "            newn *= -1\n",
        "        return newn\n",
        "\n",
        "    else:\n",
        "\n",
        "      newStringOfn = (StringOfn + '0' * (k - len(StringOfn)) + str(d))[::-1]\n",
        "      newn = int(newStringOfn)\n",
        "      if n < 0:\n",
        "        newn *= -1\n",
        "      return newn\n",
        "\n",
        "\n",
        "print(setKthDigit(468, 0, 1))\n",
        "print(setKthDigit(468, 1, 1))\n",
        "print(setKthDigit(468, 2, 1))\n",
        "print(setKthDigit(468, 3, 1))\n",
        "\n"
      ]
    }
  ],
  "metadata": {
    "colab": {
      "provenance": [],
      "authorship_tag": "ABX9TyP4UTiSRTQW7vkKqv+afYOu",
      "include_colab_link": true
    },
    "kernelspec": {
      "display_name": "Python 3",
      "name": "python3"
    },
    "language_info": {
      "name": "python"
    }
  },
  "nbformat": 4,
  "nbformat_minor": 0
}